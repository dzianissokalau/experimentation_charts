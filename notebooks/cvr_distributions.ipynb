{
 "cells": [
  {
   "cell_type": "markdown",
   "metadata": {},
   "source": [
    "# Create CVR distribution charts with alpha and p-value"
   ]
  },
  {
   "cell_type": "code",
   "execution_count": 1,
   "metadata": {},
   "outputs": [],
   "source": [
    "import pandas as pd\n",
    "import numpy as np\n",
    "from scipy import stats\n",
    "import matplotlib.pyplot as plt\n",
    "\n",
    "import sys\n",
    "import os"
   ]
  },
  {
   "cell_type": "markdown",
   "metadata": {},
   "source": [
    "## Generate synthetic data with data_generator to test the function   \n",
    "\n",
    "data generator: https://github.com/dzianissokalau/data_generator"
   ]
  },
  {
   "cell_type": "code",
   "execution_count": 2,
   "metadata": {},
   "outputs": [],
   "source": [
    "sys.path.append(os.path.realpath('../../'))\n",
    "import data_generator\n",
    "\n",
    "# define parameters for control group\n",
    "params_control = {\n",
    "    'dates': {\n",
    "        'date': {\n",
    "            'start': '2021-03-01',\n",
    "            'end': '2021-03-14'\n",
    "        }\n",
    "    },\n",
    "    'values': {\n",
    "        'payment': {\n",
    "            'distribution': 'binomial',\n",
    "            'parameters': {\n",
    "                'n': 1, \n",
    "                'p': 0.2\n",
    "            },\n",
    "            'indices': False\n",
    "        }\n",
    "    }\n",
    "}\n",
    "\n",
    "# define parameters for experimental\n",
    "params_exp = {\n",
    "    'dates': {\n",
    "        'date': {\n",
    "            'start': '2021-03-01',\n",
    "            'end': '2021-03-14'\n",
    "        }\n",
    "    },\n",
    "    'values': {\n",
    "        'payment': {\n",
    "            'distribution': 'binomial',\n",
    "            'parameters': {\n",
    "                'n': 1, \n",
    "                'p': 0.22\n",
    "            },\n",
    "            'indices': False\n",
    "        }\n",
    "    }\n",
    "}\n",
    "\n",
    "\n",
    "# create data\n",
    "control = data_generator.create_dataset(rows=2000, params=params_control, seed=1)\n",
    "experimental = data_generator.create_dataset(rows=2000, params=params_exp, seed=1)"
   ]
  },
  {
   "cell_type": "markdown",
   "metadata": {},
   "source": [
    "## Create chart"
   ]
  },
  {
   "cell_type": "code",
   "execution_count": 3,
   "metadata": {},
   "outputs": [],
   "source": [
    "def abplot(control, experimental, alpha=0.05):\n",
    "    \"\"\"Parameters:\n",
    "        control, experimental: an array of 1 and 0, where 1 indicates success\n",
    "    Returns:\n",
    "        None: plot distribution of experimental and control\n",
    "    \"\"\"\n",
    "    # calculate trials\n",
    "    control_trials = len(control)\n",
    "    experimental_trials = len(experimental)\n",
    "    \n",
    "    # calculate conversion rates\n",
    "    control_cvr = control.mean()\n",
    "    experimental_cvr = experimental.mean()\n",
    "    \n",
    "    # calculate standard deviation\n",
    "    control_std = np.sqrt(1 / control_trials * control_cvr * (1 - control_cvr))\n",
    "    experimental_std = np.sqrt(1 / experimental_trials * experimental_cvr * (1 - experimental_cvr))\n",
    "    \n",
    "    # calculate values for x axis and y axis\n",
    "    x_control = np.linspace(control_cvr - 4 * control_std, control_cvr + 4 * control_std, 1000)\n",
    "    x_experimental = np.linspace(experimental_cvr - 4 * experimental_std, experimental_cvr + 4 * experimental_std, 1000)\n",
    "\n",
    "    y_control = stats.norm(control_cvr, control_std).pdf(x_control)\n",
    "    y_experimental = stats.norm(experimental_cvr, experimental_std).pdf(x_experimental)\n",
    "    \n",
    "    # create plot\n",
    "    fig, ax = plt.subplots(figsize=(12, 6))\n",
    "    ax.plot(x_control, y_control, label='control', color='grey')\n",
    "    ax.plot(x_experimental, y_experimental, label='experimental', color='green')\n",
    "    \n",
    "    ax.fill_between(\n",
    "        x_control, 0, \n",
    "        stats.norm(control_cvr, control_std).pdf(x_control), \n",
    "        color='green', alpha=0.25, \n",
    "        where=(x_control >= stats.norm(control_cvr, control_std).ppf(1-alpha/2)))\n",
    "\n",
    "    ax.fill_between(\n",
    "        x_control, 0, \n",
    "        stats.norm(control_cvr, control_std).pdf(x_control), \n",
    "        color='green', alpha=0.25, \n",
    "        where=(x_control <= stats.norm(control_cvr, control_std).ppf(alpha/2)))\n",
    "    \n",
    "    ax.hlines(\n",
    "        0, \n",
    "        xmin=np.min([x_control.min(), x_experimental.min()]), \n",
    "        xmax=np.max([x_control.max(), x_experimental.max()]), \n",
    "        color='black')\n",
    "    \n",
    "    ax.vlines(\n",
    "        experimental_cvr, \n",
    "        ymin=0, \n",
    "        ymax=y_experimental.max(), \n",
    "        color='grey', linewidth=1, linestyle='--')\n",
    "    \n",
    "    ax.vlines(\n",
    "        stats.norm(control_cvr, control_std).ppf(1-alpha/2), \n",
    "        ymin=0, \n",
    "        ymax=stats.norm(control_cvr, control_std).pdf(stats.norm(control_cvr, control_std).ppf(1-alpha/2)), \n",
    "        color='grey', linewidth=1, linestyle='--')\n",
    "\n",
    "    ax.vlines(\n",
    "        stats.norm(control_cvr, control_std).ppf(alpha/2), \n",
    "        ymin=0, \n",
    "        ymax=stats.norm(control_cvr, control_std).pdf(stats.norm(control_cvr, control_std).ppf(alpha/2)), \n",
    "        color='grey', linewidth=1, linestyle='--')\n",
    "        \n",
    "    plt.xlabel('cvr')\n",
    "    plt.show()  "
   ]
  },
  {
   "cell_type": "code",
   "execution_count": 4,
   "metadata": {},
   "outputs": [
    {
     "data": {
      "image/png": "[encoded data removed]",
      "text/plain": [
       "<Figure size 864x432 with 1 Axes>"
      ]
     },
     "metadata": {
      "needs_background": "light"
     },
     "output_type": "display_data"
    }
   ],
   "source": [
    "abplot(control.payment, experimental.payment, alpha=0.05)"
   ]
  },
  {
   "cell_type": "code",
   "execution_count": null,
   "metadata": {},
   "outputs": [],
   "source": []
  }
 ],
 "metadata": {
  "kernelspec": {
   "display_name": "Python 3",
   "language": "python",
   "name": "python3"
  },
  "language_info": {
   "codemirror_mode": {
    "name": "ipython",
    "version": 3
   },
   "file_extension": ".py",
   "mimetype": "text/x-python",
   "name": "python",
   "nbconvert_exporter": "python",
   "pygments_lexer": "ipython3",
   "version": "3.8.2"
  }
 },
 "nbformat": 4,
 "nbformat_minor": 4
}
