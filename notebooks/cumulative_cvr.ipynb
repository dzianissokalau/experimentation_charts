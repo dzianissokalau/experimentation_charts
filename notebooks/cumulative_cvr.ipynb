{
 "cells": [
  {
   "cell_type": "markdown",
   "metadata": {},
   "source": [
    "# Create CVR evolution chart with confidence intervals"
   ]
  },
  {
   "cell_type": "code",
   "execution_count": 1,
   "metadata": {},
   "outputs": [],
   "source": [
    "import pandas as pd\n",
    "import numpy as np\n",
    "from scipy import stats\n",
    "import matplotlib.pyplot as plt\n",
    "\n",
    "import sys\n",
    "import os"
   ]
  },
  {
   "cell_type": "markdown",
   "metadata": {},
   "source": [
    "## Generate synthetic data with data_generator to test the function   \n",
    "\n",
    "data generator: https://github.com/dzianissokalau/data_generator"
   ]
  },
  {
   "cell_type": "code",
   "execution_count": 2,
   "metadata": {},
   "outputs": [],
   "source": [
    "sys.path.append(os.path.realpath('../../'))\n",
    "import data_generator\n",
    "\n",
    "# define parameters for control group\n",
    "params_control = {\n",
    "    'dates': {\n",
    "        'date': {\n",
    "            'start': '2021-03-01',\n",
    "            'end': '2021-03-14'\n",
    "        }\n",
    "    },\n",
    "    'values': {\n",
    "        'payment': {\n",
    "            'distribution': 'binomial',\n",
    "            'parameters': {\n",
    "                'n': 1, \n",
    "                'p': 0.2\n",
    "            },\n",
    "            'indices': False\n",
    "        }\n",
    "    }\n",
    "}\n",
    "\n",
    "# define parameters for experimental\n",
    "params_exp = {\n",
    "    'dates': {\n",
    "        'date': {\n",
    "            'start': '2021-03-01',\n",
    "            'end': '2021-03-14'\n",
    "        }\n",
    "    },\n",
    "    'values': {\n",
    "        'payment': {\n",
    "            'distribution': 'binomial',\n",
    "            'parameters': {\n",
    "                'n': 1, \n",
    "                'p': 0.22\n",
    "            },\n",
    "            'indices': False\n",
    "        }\n",
    "    }\n",
    "}\n",
    "\n",
    "\n",
    "# create data\n",
    "control = data_generator.create_dataset(rows=7000, params=params_control, seed=1)\n",
    "experimental = data_generator.create_dataset(rows=7000, params=params_exp, seed=2)"
   ]
  },
  {
   "cell_type": "markdown",
   "metadata": {},
   "source": [
    "## Prepare data"
   ]
  },
  {
   "cell_type": "code",
   "execution_count": 4,
   "metadata": {},
   "outputs": [
    {
     "data": {
      "text/html": [
       "<div>\n",
       "<style scoped>\n",
       "    .dataframe tbody tr th:only-of-type {\n",
       "        vertical-align: middle;\n",
       "    }\n",
       "\n",
       "    .dataframe tbody tr th {\n",
       "        vertical-align: top;\n",
       "    }\n",
       "\n",
       "    .dataframe thead th {\n",
       "        text-align: right;\n",
       "    }\n",
       "</style>\n",
       "<table border=\"1\" class=\"dataframe\">\n",
       "  <thead>\n",
       "    <tr style=\"text-align: right;\">\n",
       "      <th></th>\n",
       "      <th>date</th>\n",
       "      <th>trials</th>\n",
       "      <th>successes</th>\n",
       "    </tr>\n",
       "  </thead>\n",
       "  <tbody>\n",
       "    <tr>\n",
       "      <th>0</th>\n",
       "      <td>2021-03-01</td>\n",
       "      <td>496</td>\n",
       "      <td>117</td>\n",
       "    </tr>\n",
       "    <tr>\n",
       "      <th>1</th>\n",
       "      <td>2021-03-02</td>\n",
       "      <td>492</td>\n",
       "      <td>119</td>\n",
       "    </tr>\n",
       "    <tr>\n",
       "      <th>2</th>\n",
       "      <td>2021-03-03</td>\n",
       "      <td>502</td>\n",
       "      <td>119</td>\n",
       "    </tr>\n",
       "    <tr>\n",
       "      <th>3</th>\n",
       "      <td>2021-03-04</td>\n",
       "      <td>520</td>\n",
       "      <td>122</td>\n",
       "    </tr>\n",
       "    <tr>\n",
       "      <th>4</th>\n",
       "      <td>2021-03-05</td>\n",
       "      <td>494</td>\n",
       "      <td>102</td>\n",
       "    </tr>\n",
       "  </tbody>\n",
       "</table>\n",
       "</div>"
      ],
      "text/plain": [
       "         date  trials  successes\n",
       "0  2021-03-01     496        117\n",
       "1  2021-03-02     492        119\n",
       "2  2021-03-03     502        119\n",
       "3  2021-03-04     520        122\n",
       "4  2021-03-05     494        102"
      ]
     },
     "execution_count": 4,
     "metadata": {},
     "output_type": "execute_result"
    }
   ],
   "source": [
    "# lets aggregate data\n",
    "control = control.groupby(['date']).agg({'payment': ['count', 'sum']}).reset_index()\n",
    "experimental = experimental.groupby(['date']).agg({'payment': ['count', 'sum']}).reset_index()\n",
    "\n",
    "columns = ['date', 'trials', 'successes']\n",
    "control.columns = columns\n",
    "experimental.columns = columns\n",
    "\n",
    "experimental.head()"
   ]
  },
  {
   "cell_type": "code",
   "execution_count": 6,
   "metadata": {},
   "outputs": [],
   "source": [
    "# calculate cumulative data\n",
    "def get_cumulative(dates, successes, trials):\n",
    "    d = {\n",
    "        'dates': dates, \n",
    "        'successes': successes,\n",
    "        'trials': trials\n",
    "    }\n",
    "    \n",
    "    df = pd.DataFrame(d)\n",
    "    df = df.sort_values(by='dates', ascending=True)\n",
    "    \n",
    "    df['successes'] = df['successes'].cumsum()\n",
    "    df['trials'] = df['trials'].cumsum()\n",
    "    \n",
    "    return df"
   ]
  },
  {
   "cell_type": "code",
   "execution_count": 41,
   "metadata": {},
   "outputs": [],
   "source": [
    "control_cumulative = get_cumulative(\n",
    "    dates=control.date, \n",
    "    successes=control.successes, \n",
    "    trials=control.trials)\n",
    "\n",
    "experimental_cumulative = get_cumulative(\n",
    "    dates=experimental.date, \n",
    "    successes=experimental.successes, \n",
    "    trials=experimental.trials)"
   ]
  },
  {
   "cell_type": "code",
   "execution_count": 42,
   "metadata": {},
   "outputs": [],
   "source": [
    "# calculate probability\n",
    "control_cumulative['probability'] = control_cumulative.successes / control_cumulative.trials\n",
    "experimental_cumulative['probability'] = experimental_cumulative.successes / experimental_cumulative.trials"
   ]
  },
  {
   "cell_type": "code",
   "execution_count": 43,
   "metadata": {},
   "outputs": [],
   "source": [
    "# function to calculate confidence interval for binomial distribution\n",
    "def get_confidence(successes, trials, confidence_level):\n",
    "    \"\"\"Using Agresti-Coull interval\n",
    "    \"\"\"\n",
    "    \n",
    "    alpha = 1 - confidence_level\n",
    "    \n",
    "    z = stats.norm.isf(alpha / 2)\n",
    "    trials_new = trials + z**2\n",
    "    prob = (successes + z**2 / 2) / trials_new\n",
    "    std = np.sqrt(prob * (1 - prob) / trials_new)\n",
    "    dist = z * std\n",
    "    low = prob - dist\n",
    "    up = prob + dist\n",
    "    \n",
    "    return (low, up)"
   ]
  },
  {
   "cell_type": "code",
   "execution_count": 44,
   "metadata": {},
   "outputs": [],
   "source": [
    "# add confidence intervals for control\n",
    "control_cumulative['low'] = control_cumulative.apply(lambda x: get_confidence(x['successes'], x['trials'], 0.95)[0], axis=1)\n",
    "control_cumulative['up'] = control_cumulative.apply(lambda x: get_confidence(x['successes'], x['trials'], 0.95)[1], axis=1)"
   ]
  },
  {
   "cell_type": "code",
   "execution_count": 45,
   "metadata": {},
   "outputs": [],
   "source": [
    "# add confidence intervals for experimental\n",
    "experimental_cumulative['low'] = experimental_cumulative.apply(lambda x: get_confidence(x['successes'], x['trials'], 0.95)[0], axis=1)\n",
    "experimental_cumulative['up'] = experimental_cumulative.apply(lambda x: get_confidence(x['successes'], x['trials'], 0.95)[1], axis=1)"
   ]
  },
  {
   "cell_type": "code",
   "execution_count": 46,
   "metadata": {},
   "outputs": [
    {
     "data": {
      "text/html": [
       "<div>\n",
       "<style scoped>\n",
       "    .dataframe tbody tr th:only-of-type {\n",
       "        vertical-align: middle;\n",
       "    }\n",
       "\n",
       "    .dataframe tbody tr th {\n",
       "        vertical-align: top;\n",
       "    }\n",
       "\n",
       "    .dataframe thead th {\n",
       "        text-align: right;\n",
       "    }\n",
       "</style>\n",
       "<table border=\"1\" class=\"dataframe\">\n",
       "  <thead>\n",
       "    <tr style=\"text-align: right;\">\n",
       "      <th></th>\n",
       "      <th>dates</th>\n",
       "      <th>successes</th>\n",
       "      <th>trials</th>\n",
       "      <th>probability</th>\n",
       "      <th>low</th>\n",
       "      <th>up</th>\n",
       "    </tr>\n",
       "  </thead>\n",
       "  <tbody>\n",
       "    <tr>\n",
       "      <th>0</th>\n",
       "      <td>2021-03-01</td>\n",
       "      <td>117</td>\n",
       "      <td>496</td>\n",
       "      <td>0.235887</td>\n",
       "      <td>0.200588</td>\n",
       "      <td>0.275246</td>\n",
       "    </tr>\n",
       "    <tr>\n",
       "      <th>1</th>\n",
       "      <td>2021-03-02</td>\n",
       "      <td>236</td>\n",
       "      <td>988</td>\n",
       "      <td>0.238866</td>\n",
       "      <td>0.213303</td>\n",
       "      <td>0.266452</td>\n",
       "    </tr>\n",
       "    <tr>\n",
       "      <th>2</th>\n",
       "      <td>2021-03-03</td>\n",
       "      <td>355</td>\n",
       "      <td>1490</td>\n",
       "      <td>0.238255</td>\n",
       "      <td>0.217304</td>\n",
       "      <td>0.260552</td>\n",
       "    </tr>\n",
       "    <tr>\n",
       "      <th>3</th>\n",
       "      <td>2021-03-04</td>\n",
       "      <td>477</td>\n",
       "      <td>2010</td>\n",
       "      <td>0.237313</td>\n",
       "      <td>0.219220</td>\n",
       "      <td>0.256409</td>\n",
       "    </tr>\n",
       "    <tr>\n",
       "      <th>4</th>\n",
       "      <td>2021-03-05</td>\n",
       "      <td>579</td>\n",
       "      <td>2504</td>\n",
       "      <td>0.231230</td>\n",
       "      <td>0.215130</td>\n",
       "      <td>0.248153</td>\n",
       "    </tr>\n",
       "  </tbody>\n",
       "</table>\n",
       "</div>"
      ],
      "text/plain": [
       "        dates  successes  trials  probability       low        up\n",
       "0  2021-03-01        117     496     0.235887  0.200588  0.275246\n",
       "1  2021-03-02        236     988     0.238866  0.213303  0.266452\n",
       "2  2021-03-03        355    1490     0.238255  0.217304  0.260552\n",
       "3  2021-03-04        477    2010     0.237313  0.219220  0.256409\n",
       "4  2021-03-05        579    2504     0.231230  0.215130  0.248153"
      ]
     },
     "execution_count": 46,
     "metadata": {},
     "output_type": "execute_result"
    }
   ],
   "source": [
    "experimental_cumulative.head()"
   ]
  },
  {
   "cell_type": "markdown",
   "metadata": {},
   "source": [
    "## Create chart"
   ]
  },
  {
   "cell_type": "code",
   "execution_count": 52,
   "metadata": {},
   "outputs": [
    {
     "data": {
      "image/png": "[encoded data removed]",
      "text/plain": [
       "<Figure size 432x288 with 1 Axes>"
      ]
     },
     "metadata": {
      "needs_background": "light"
     },
     "output_type": "display_data"
    }
   ],
   "source": [
    "plt.plot(control_cumulative.probability, color='blue')\n",
    "plt.plot(control_cumulative.low, color='red', linestyle='--')\n",
    "plt.plot(control_cumulative.up, color='green', linestyle='--');"
   ]
  },
  {
   "cell_type": "code",
   "execution_count": 53,
   "metadata": {},
   "outputs": [
    {
     "data": {
      "image/png": "[encoded data removed]",
      "text/plain": [
       "<Figure size 432x288 with 1 Axes>"
      ]
     },
     "metadata": {
      "needs_background": "light"
     },
     "output_type": "display_data"
    }
   ],
   "source": [
    "plt.plot(experimental_cumulative.probability, color='blue')\n",
    "plt.plot(experimental_cumulative.low, color='red', linestyle='--')\n",
    "plt.plot(experimental_cumulative.up, color='green', linestyle='--');"
   ]
  },
  {
   "cell_type": "code",
   "execution_count": null,
   "metadata": {},
   "outputs": [],
   "source": []
  }
 ],
 "metadata": {
  "kernelspec": {
   "display_name": "Python 3",
   "language": "python",
   "name": "python3"
  },
  "language_info": {
   "codemirror_mode": {
    "name": "ipython",
    "version": 3
   },
   "file_extension": ".py",
   "mimetype": "text/x-python",
   "name": "python",
   "nbconvert_exporter": "python",
   "pygments_lexer": "ipython3",
   "version": "3.8.2"
  }
 },
 "nbformat": 4,
 "nbformat_minor": 4
}
